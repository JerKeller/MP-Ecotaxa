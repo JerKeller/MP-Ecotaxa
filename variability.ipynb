{
  "nbformat": 4,
  "nbformat_minor": 0,
  "metadata": {
    "colab": {
      "provenance": [],
      "authorship_tag": "ABX9TyOZngwIFeqm+2rpF1dwF1Wo",
      "include_colab_link": true
    },
    "kernelspec": {
      "name": "python3",
      "display_name": "Python 3"
    },
    "language_info": {
      "name": "python"
    }
  },
  "cells": [
    {
      "cell_type": "markdown",
      "metadata": {
        "id": "view-in-github",
        "colab_type": "text"
      },
      "source": [
        "<a href=\"https://colab.research.google.com/github/JerKeller/MP-Ecotaxa/blob/main/variability.ipynb\" target=\"_parent\"><img src=\"https://colab.research.google.com/assets/colab-badge.svg\" alt=\"Open In Colab\"/></a>"
      ]
    },
    {
      "cell_type": "markdown",
      "source": [
        "Importing libraries"
      ],
      "metadata": {
        "id": "z48bK6zwWDHC"
      }
    },
    {
      "cell_type": "code",
      "execution_count": 1,
      "metadata": {
        "id": "tF-uH4c3V6jS"
      },
      "outputs": [],
      "source": [
        "import pandas as pd\n",
        "import numpy as np\n",
        "import os\n",
        "import sys\n",
        "import subprocess\n",
        "from plotnine import ggplot, aes, geom_point, geom_line, labs, ggtitle, scale_y_log10\n",
        "import matplotlib.pyplot as plt\n",
        "import seaborn as sns"
      ]
    },
    {
      "cell_type": "code",
      "source": [
        "from google.colab import drive"
      ],
      "metadata": {
        "id": "mVM5xCakWe-2"
      },
      "execution_count": 2,
      "outputs": []
    },
    {
      "cell_type": "code",
      "source": [
        "drive.mount('/content/drive')"
      ],
      "metadata": {
        "colab": {
          "base_uri": "https://localhost:8080/"
        },
        "id": "_U1e13NeWiIL",
        "outputId": "0aee4327-3689-44b1-f195-d50843a3ed4e"
      },
      "execution_count": 4,
      "outputs": [
        {
          "output_type": "stream",
          "name": "stdout",
          "text": [
            "Mounted at /content/drive\n"
          ]
        }
      ]
    },
    {
      "cell_type": "code",
      "source": [
        "ecotaxa_export = '/content/drive/MyDrive/ecotaxa_export.tsv'\n",
        "tsv_read = pd.read_csv(ecotaxa_export, sep='\\t')"
      ],
      "metadata": {
        "id": "vzwcdv8oWmqp"
      },
      "execution_count": 5,
      "outputs": []
    },
    {
      "cell_type": "code",
      "source": [
        "# Load data and extract columns needed\n",
        "sub1 = tsv_read[['object_id', 'object_date', 'object_depth_min', 'object_depth_max', 'object_annotation_category',\n",
        "                 'object_area', 'object_area_exc', 'object_major', 'object_minor', 'sample_tot_vol', 'process_particle_pixel_size_mm',\n",
        "                 'acq_id']]"
      ],
      "metadata": {
        "id": "WDIUlqpdWpCM"
      },
      "execution_count": 6,
      "outputs": []
    },
    {
      "cell_type": "code",
      "source": [
        "# Modify names of columns\n",
        "sub1.columns = ['Label', 'Date', 'Min_depth', 'Max_depth', 'Taxa', 'area', 'areaExc', 'major', 'minor',\n",
        "                'Tow_Vol', 'pixel_size_mm', 'acq_id']\n",
        "\n",
        "# Remove not living organisms\n",
        "sub2 = sub1[(sub1['Taxa'] != 'badfocus<artefact') & (sub1['Taxa'] != 'fiber<detritus') & \n",
        "            (sub1['Taxa'] != 'multiple<other') & (sub1['Taxa'] != 'detritus') & \n",
        "            (sub1['Taxa'] != 'egg sac<egg') & (sub1['Taxa'] != 't001') & \n",
        "            (sub1['Taxa'] != 't002') & (sub1['Taxa'] != 't003') & \n",
        "            (sub1['Taxa'] != 'othertocheck') & (sub1['Taxa'] != 'artefact') & \n",
        "            (sub1['Taxa'] != 'bubble') & (sub1['Taxa'] != 'dead<Copepoda')].copy()"
      ],
      "metadata": {
        "id": "T9a-adTzWsER"
      },
      "execution_count": 7,
      "outputs": []
    },
    {
      "cell_type": "code",
      "source": [
        "var_data = sub2.loc[(sub2['acq_id'] == 'tot_n21_221221') | (sub2['acq_id'] == 'tot_n22_221221') | \n",
        "                (sub2['acq_id'] == 'tot_n23_221221') | (sub2['acq_id'] == 'tot_n24_221221') |\n",
        "                (sub2['acq_id'] == 'tot_n25_221221') | (sub2['acq_id'] == 'tot_n26_221221') |\n",
        "                (sub2['acq_id'] == 'tot_n27_221221') | (sub2['acq_id'] == 'tot_n28_221221') |\n",
        "                (sub2['acq_id'] == 'tot_n29_221221') | (sub2['acq_id'] == 'tot_n40_230209') |\n",
        "                (sub2['acq_id'] == 'tot_n41_230209') | (sub2['acq_id'] == 'tot_n42_230209')].copy()"
      ],
      "metadata": {
        "id": "N71VK-1PXG6q"
      },
      "execution_count": 23,
      "outputs": []
    },
    {
      "cell_type": "code",
      "source": [
        "# Convert date to datetime format\n",
        "var_data['Date'] = pd.to_datetime(var_data['Date'], format='%Y%m%d')"
      ],
      "metadata": {
        "id": "1zn6TRDIbRwC"
      },
      "execution_count": 24,
      "outputs": []
    },
    {
      "cell_type": "markdown",
      "source": [
        "Conversions from pixel to mm"
      ],
      "metadata": {
        "id": "ZemI_Xh9c6xq"
      }
    },
    {
      "cell_type": "code",
      "source": [
        "var_data['Area_mm2'] = var_data['area'] * ((var_data['pixel_size_mm']) ** 2)\n",
        "var_data['AreaExc_mm2'] = var_data['areaExc'] * ((var_data['pixel_size_mm']) ** 2)\n",
        "var_data['Major_mm'] = var_data['major'] * var_data['pixel_size_mm']\n",
        "var_data['Minor_mm'] = var_data['minor'] * var_data['pixel_size_mm']"
      ],
      "metadata": {
        "id": "QnVEjrtmc5VH"
      },
      "execution_count": 25,
      "outputs": []
    },
    {
      "cell_type": "code",
      "source": [
        "var_data['V_mm3'] = (4 / 3) * np.pi * ((var_data['Major_mm'] / 2) * (var_data['Minor_mm'] / 2) * (var_data['Minor_mm'] / 2))"
      ],
      "metadata": {
        "id": "-G9KH-J1ehr-"
      },
      "execution_count": 26,
      "outputs": []
    },
    {
      "cell_type": "code",
      "source": [
        "print(var_data)"
      ],
      "metadata": {
        "colab": {
          "base_uri": "https://localhost:8080/"
        },
        "id": "9jLQtzoRk7qj",
        "outputId": "c43afa1c-c27f-40f3-a15b-723f9a2e923b"
      },
      "execution_count": 42,
      "outputs": [
        {
          "output_type": "stream",
          "name": "stdout",
          "text": [
            "                      Label       Date  Min_depth  Max_depth  \\\n",
            "8753     n21_221221_tot_1_1 2022-12-21       50.0      100.0   \n",
            "8755     n21_221221_tot_1_3 2022-12-21       50.0      100.0   \n",
            "8756     n21_221221_tot_1_4 2022-12-21       50.0      100.0   \n",
            "8757     n21_221221_tot_1_5 2022-12-21       50.0      100.0   \n",
            "8761     n21_221221_tot_1_9 2022-12-21       50.0      100.0   \n",
            "...                     ...        ...        ...        ...   \n",
            "18204  n42_230209_tot_1_279 2023-02-09        0.0       50.0   \n",
            "18205  n42_230209_tot_1_280 2023-02-09        0.0       50.0   \n",
            "18206  n42_230209_tot_1_281 2023-02-09        0.0       50.0   \n",
            "18207  n42_230209_tot_1_282 2023-02-09        0.0       50.0   \n",
            "18208  n42_230209_tot_1_284 2023-02-09        0.0       50.0   \n",
            "\n",
            "                       Taxa     area  areaExc  major  minor  Tow_Vol  \\\n",
            "8753     Daphnia<Daphniidae   5828.0   5823.0   98.0   75.7   3.5342   \n",
            "8755     Cyclops prealpinus   6954.0   6946.0  166.2   53.3   3.5342   \n",
            "8756     Cyclops prealpinus   3256.0   3251.0  103.4   40.1   3.5342   \n",
            "8757     Cyclops prealpinus   2849.0   2847.0   98.8   36.7   3.5342   \n",
            "8761     Daphnia<Daphniidae  10987.0  10764.0  168.9   82.8   3.5342   \n",
            "...                     ...      ...      ...    ...    ...      ...   \n",
            "18204  Eudiaptomus gracilis   3771.0   3771.0   87.0   55.2   3.5342   \n",
            "18205  Eudiaptomus gracilis   2709.0   2709.0   78.7   43.8   3.5342   \n",
            "18206    Cyclops prealpinus   7275.0   7271.0  164.7   56.2   3.5342   \n",
            "18207  Eudiaptomus gracilis   4275.0   4255.0  110.2   49.4   3.5342   \n",
            "18208  Eudiaptomus gracilis   4279.0   4270.0  121.3   44.9   3.5342   \n",
            "\n",
            "       pixel_size_mm          acq_id  Area_mm2  AreaExc_mm2  Major_mm  \\\n",
            "8753          0.0106  tot_n21_221221  0.654834     0.654272   1.03880   \n",
            "8755          0.0106  tot_n21_221221  0.781351     0.780453   1.76172   \n",
            "8756          0.0106  tot_n21_221221  0.365844     0.365282   1.09604   \n",
            "8757          0.0106  tot_n21_221221  0.320114     0.319889   1.04728   \n",
            "8761          0.0106  tot_n21_221221  1.234499     1.209443   1.79034   \n",
            "...              ...             ...       ...          ...       ...   \n",
            "18204         0.0106  tot_n42_230209  0.423710     0.423710   0.92220   \n",
            "18205         0.0106  tot_n42_230209  0.304383     0.304383   0.83422   \n",
            "18206         0.0106  tot_n42_230209  0.817419     0.816970   1.74582   \n",
            "18207         0.0106  tot_n42_230209  0.480339     0.478092   1.16812   \n",
            "18208         0.0106  tot_n42_230209  0.480788     0.479777   1.28578   \n",
            "\n",
            "       Minor_mm     V_mm3  \n",
            "8753    0.80242  0.350214  \n",
            "8755    0.56498  0.294443  \n",
            "8756    0.42506  0.103687  \n",
            "8757    0.38902  0.082986  \n",
            "8761    0.87768  0.722115  \n",
            "...         ...       ...  \n",
            "18204   0.58512  0.165316  \n",
            "18205   0.46428  0.094154  \n",
            "18206   0.59572  0.324401  \n",
            "18207   0.52364  0.167707  \n",
            "18208   0.47594  0.152500  \n",
            "\n",
            "[2418 rows x 17 columns]\n"
          ]
        }
      ]
    },
    {
      "cell_type": "code",
      "source": [
        "grouped_data = var_data.groupby(['acq_id', 'Taxa', 'Date'])"
      ],
      "metadata": {
        "id": "EFeRqm9leq1L"
      },
      "execution_count": 50,
      "outputs": []
    },
    {
      "cell_type": "code",
      "source": [
        "species_count_data = grouped_data.agg({'Taxa': 'count', 'Tow_Vol': 'mean', 'Min_depth': 'first'}).rename(columns={'Taxa': 'Count', 'Tow_Vol': 'tv'})"
      ],
      "metadata": {
        "id": "b3BLW4GnlmHc"
      },
      "execution_count": 51,
      "outputs": []
    },
    {
      "cell_type": "code",
      "source": [
        "print(species_count_data)"
      ],
      "metadata": {
        "colab": {
          "base_uri": "https://localhost:8080/"
        },
        "id": "UwGW3-ajpT3q",
        "outputId": "2baa4a74-a55f-4379-fed5-6fff52c26a7c"
      },
      "execution_count": 58,
      "outputs": [
        {
          "output_type": "stream",
          "name": "stdout",
          "text": [
            "            acq_id                  Taxa       Date  Count      tv  Min_depth\n",
            "0   tot_n21_221221    Cyclops prealpinus 2022-12-21     64  3.5342       50.0\n",
            "1   tot_n21_221221    Daphnia<Daphniidae 2022-12-21     22  3.5342       50.0\n",
            "2   tot_n21_221221          Eubosmina sp 2022-12-21      9  3.5342       50.0\n",
            "3   tot_n21_221221  Eudiaptomus gracilis 2022-12-21     12  3.5342       50.0\n",
            "4   tot_n21_221221     Leptodora kindtii 2022-12-21      1  3.5342       50.0\n",
            "5   tot_n22_221221    Cyclops prealpinus 2022-12-21    154  2.1206       20.0\n",
            "6   tot_n22_221221    Daphnia<Daphniidae 2022-12-21     10  2.1206       20.0\n",
            "7   tot_n22_221221          Eubosmina sp 2022-12-21      5  2.1206       20.0\n",
            "8   tot_n22_221221  Eudiaptomus gracilis 2022-12-21    133  2.1206       20.0\n",
            "9   tot_n22_221221      nauplii<Copepoda 2022-12-21     28  2.1206       20.0\n",
            "10  tot_n23_221221    Cyclops prealpinus 2022-12-21     36  1.4137        0.0\n",
            "11  tot_n23_221221    Daphnia<Daphniidae 2022-12-21     28  1.4137        0.0\n",
            "12  tot_n23_221221          Eubosmina sp 2022-12-21      1  1.4137        0.0\n",
            "13  tot_n23_221221  Eudiaptomus gracilis 2022-12-21    160  1.4137        0.0\n",
            "14  tot_n23_221221      nauplii<Copepoda 2022-12-21     40  1.4137        0.0\n",
            "15  tot_n24_221221    Cyclops prealpinus 2022-12-21     33  3.5342       50.0\n",
            "16  tot_n24_221221    Daphnia<Daphniidae 2022-12-21      7  3.5342       50.0\n",
            "17  tot_n24_221221          Eubosmina sp 2022-12-21      4  3.5342       50.0\n",
            "18  tot_n24_221221  Eudiaptomus gracilis 2022-12-21      8  3.5342       50.0\n",
            "19  tot_n25_221221    Cyclops prealpinus 2022-12-21    143  2.1206       20.0\n",
            "20  tot_n25_221221    Daphnia<Daphniidae 2022-12-21      2  2.1206       20.0\n",
            "21  tot_n25_221221          Eubosmina sp 2022-12-21      3  2.1206       20.0\n",
            "22  tot_n25_221221  Eudiaptomus gracilis 2022-12-21    127  2.1206       20.0\n",
            "23  tot_n25_221221     Leptodora kindtii 2022-12-21      1  2.1206       20.0\n",
            "24  tot_n25_221221      nauplii<Copepoda 2022-12-21     22  2.1206       20.0\n",
            "25  tot_n26_221221    Cyclops prealpinus 2022-12-21     37  1.4137        0.0\n",
            "26  tot_n26_221221    Daphnia<Daphniidae 2022-12-21     49  1.4137        0.0\n",
            "27  tot_n26_221221  Eudiaptomus gracilis 2022-12-21    286  1.4137        0.0\n",
            "28  tot_n26_221221      nauplii<Copepoda 2022-12-21     41  1.4137        0.0\n",
            "29  tot_n27_221221    Cyclops prealpinus 2022-12-21     25  3.5342       50.0\n",
            "30  tot_n27_221221    Daphnia<Daphniidae 2022-12-21      7  3.5342       50.0\n",
            "31  tot_n27_221221          Eubosmina sp 2022-12-21      8  3.5342       50.0\n",
            "32  tot_n27_221221  Eudiaptomus gracilis 2022-12-21     23  3.5342       50.0\n",
            "33  tot_n27_221221      nauplii<Copepoda 2022-12-21      5  3.5342       50.0\n",
            "34  tot_n28_221221    Cyclops prealpinus 2022-12-21    120  2.1206       20.0\n",
            "35  tot_n28_221221    Daphnia<Daphniidae 2022-12-21      7  2.1206       20.0\n",
            "36  tot_n28_221221          Eubosmina sp 2022-12-21      5  2.1206       20.0\n",
            "37  tot_n28_221221  Eudiaptomus gracilis 2022-12-21    154  2.1206       20.0\n",
            "38  tot_n28_221221      nauplii<Copepoda 2022-12-21     32  2.1206       20.0\n",
            "39  tot_n29_221221    Cyclops prealpinus 2022-12-21     49  1.4137        0.0\n",
            "40  tot_n29_221221    Daphnia<Daphniidae 2022-12-21     16  1.4137        0.0\n",
            "41  tot_n29_221221          Eubosmina sp 2022-12-21      2  1.4137        0.0\n",
            "42  tot_n29_221221  Eudiaptomus gracilis 2022-12-21    265  1.4137        0.0\n",
            "43  tot_n29_221221      nauplii<Copepoda 2022-12-21     31  1.4137        0.0\n",
            "44  tot_n42_230209    Cyclops prealpinus 2023-02-09     63  3.5342        0.0\n",
            "45  tot_n42_230209    Daphnia<Daphniidae 2023-02-09      1  3.5342        0.0\n",
            "46  tot_n42_230209  Eudiaptomus gracilis 2023-02-09    129  3.5342        0.0\n",
            "47  tot_n42_230209      nauplii<Copepoda 2023-02-09     10  3.5342        0.0\n"
          ]
        }
      ]
    },
    {
      "cell_type": "code",
      "source": [
        "species_count_data = species_count_data.reset_index()\n",
        "\n"
      ],
      "metadata": {
        "id": "xuqSdPsQl4Ag"
      },
      "execution_count": 52,
      "outputs": []
    },
    {
      "cell_type": "code",
      "source": [
        "var_data['Min_depth'] = var_data['Min_depth'].astype(int)"
      ],
      "metadata": {
        "id": "D8cmvmNenXM5"
      },
      "execution_count": 54,
      "outputs": []
    },
    {
      "cell_type": "code",
      "source": [
        "# Group species_count_data by Date and Min_depth\n",
        "grouped_data = species_count_data.groupby(['Date', 'Min_depth'])\n",
        "\n",
        "# Calculate the variance of the Count column within each group\n",
        "count_var = grouped_data['Count'].var().reset_index().rename(columns={'Count': 'Count_var'})\n",
        "\n",
        "# Merge species_count_data and count_var dataframes\n",
        "merged_data = pd.merge(species_count_data, count_var, on=['Date', 'Min_depth'])\n",
        "\n",
        "# Print the merged dataframe\n",
        "print(merged_data)\n",
        "\n",
        "\n",
        "\n"
      ],
      "metadata": {
        "colab": {
          "base_uri": "https://localhost:8080/"
        },
        "id": "b92h5YV9op4X",
        "outputId": "929dd400-0327-4233-95be-3f681629de8f"
      },
      "execution_count": 60,
      "outputs": [
        {
          "output_type": "stream",
          "name": "stdout",
          "text": [
            "            acq_id                  Taxa       Date  Count      tv  Min_depth  \\\n",
            "0   tot_n21_221221    Cyclops prealpinus 2022-12-21     64  3.5342       50.0   \n",
            "1   tot_n21_221221    Daphnia<Daphniidae 2022-12-21     22  3.5342       50.0   \n",
            "2   tot_n21_221221          Eubosmina sp 2022-12-21      9  3.5342       50.0   \n",
            "3   tot_n21_221221  Eudiaptomus gracilis 2022-12-21     12  3.5342       50.0   \n",
            "4   tot_n21_221221     Leptodora kindtii 2022-12-21      1  3.5342       50.0   \n",
            "5   tot_n24_221221    Cyclops prealpinus 2022-12-21     33  3.5342       50.0   \n",
            "6   tot_n24_221221    Daphnia<Daphniidae 2022-12-21      7  3.5342       50.0   \n",
            "7   tot_n24_221221          Eubosmina sp 2022-12-21      4  3.5342       50.0   \n",
            "8   tot_n24_221221  Eudiaptomus gracilis 2022-12-21      8  3.5342       50.0   \n",
            "9   tot_n27_221221    Cyclops prealpinus 2022-12-21     25  3.5342       50.0   \n",
            "10  tot_n27_221221    Daphnia<Daphniidae 2022-12-21      7  3.5342       50.0   \n",
            "11  tot_n27_221221          Eubosmina sp 2022-12-21      8  3.5342       50.0   \n",
            "12  tot_n27_221221  Eudiaptomus gracilis 2022-12-21     23  3.5342       50.0   \n",
            "13  tot_n27_221221      nauplii<Copepoda 2022-12-21      5  3.5342       50.0   \n",
            "14  tot_n22_221221    Cyclops prealpinus 2022-12-21    154  2.1206       20.0   \n",
            "15  tot_n22_221221    Daphnia<Daphniidae 2022-12-21     10  2.1206       20.0   \n",
            "16  tot_n22_221221          Eubosmina sp 2022-12-21      5  2.1206       20.0   \n",
            "17  tot_n22_221221  Eudiaptomus gracilis 2022-12-21    133  2.1206       20.0   \n",
            "18  tot_n22_221221      nauplii<Copepoda 2022-12-21     28  2.1206       20.0   \n",
            "19  tot_n25_221221    Cyclops prealpinus 2022-12-21    143  2.1206       20.0   \n",
            "20  tot_n25_221221    Daphnia<Daphniidae 2022-12-21      2  2.1206       20.0   \n",
            "21  tot_n25_221221          Eubosmina sp 2022-12-21      3  2.1206       20.0   \n",
            "22  tot_n25_221221  Eudiaptomus gracilis 2022-12-21    127  2.1206       20.0   \n",
            "23  tot_n25_221221     Leptodora kindtii 2022-12-21      1  2.1206       20.0   \n",
            "24  tot_n25_221221      nauplii<Copepoda 2022-12-21     22  2.1206       20.0   \n",
            "25  tot_n28_221221    Cyclops prealpinus 2022-12-21    120  2.1206       20.0   \n",
            "26  tot_n28_221221    Daphnia<Daphniidae 2022-12-21      7  2.1206       20.0   \n",
            "27  tot_n28_221221          Eubosmina sp 2022-12-21      5  2.1206       20.0   \n",
            "28  tot_n28_221221  Eudiaptomus gracilis 2022-12-21    154  2.1206       20.0   \n",
            "29  tot_n28_221221      nauplii<Copepoda 2022-12-21     32  2.1206       20.0   \n",
            "30  tot_n23_221221    Cyclops prealpinus 2022-12-21     36  1.4137        0.0   \n",
            "31  tot_n23_221221    Daphnia<Daphniidae 2022-12-21     28  1.4137        0.0   \n",
            "32  tot_n23_221221          Eubosmina sp 2022-12-21      1  1.4137        0.0   \n",
            "33  tot_n23_221221  Eudiaptomus gracilis 2022-12-21    160  1.4137        0.0   \n",
            "34  tot_n23_221221      nauplii<Copepoda 2022-12-21     40  1.4137        0.0   \n",
            "35  tot_n26_221221    Cyclops prealpinus 2022-12-21     37  1.4137        0.0   \n",
            "36  tot_n26_221221    Daphnia<Daphniidae 2022-12-21     49  1.4137        0.0   \n",
            "37  tot_n26_221221  Eudiaptomus gracilis 2022-12-21    286  1.4137        0.0   \n",
            "38  tot_n26_221221      nauplii<Copepoda 2022-12-21     41  1.4137        0.0   \n",
            "39  tot_n29_221221    Cyclops prealpinus 2022-12-21     49  1.4137        0.0   \n",
            "40  tot_n29_221221    Daphnia<Daphniidae 2022-12-21     16  1.4137        0.0   \n",
            "41  tot_n29_221221          Eubosmina sp 2022-12-21      2  1.4137        0.0   \n",
            "42  tot_n29_221221  Eudiaptomus gracilis 2022-12-21    265  1.4137        0.0   \n",
            "43  tot_n29_221221      nauplii<Copepoda 2022-12-21     31  1.4137        0.0   \n",
            "44  tot_n42_230209    Cyclops prealpinus 2023-02-09     63  3.5342        0.0   \n",
            "45  tot_n42_230209    Daphnia<Daphniidae 2023-02-09      1  3.5342        0.0   \n",
            "46  tot_n42_230209  Eudiaptomus gracilis 2023-02-09    129  3.5342        0.0   \n",
            "47  tot_n42_230209      nauplii<Copepoda 2023-02-09     10  3.5342        0.0   \n",
            "\n",
            "      Count_var  \n",
            "0    277.142857  \n",
            "1    277.142857  \n",
            "2    277.142857  \n",
            "3    277.142857  \n",
            "4    277.142857  \n",
            "5    277.142857  \n",
            "6    277.142857  \n",
            "7    277.142857  \n",
            "8    277.142857  \n",
            "9    277.142857  \n",
            "10   277.142857  \n",
            "11   277.142857  \n",
            "12   277.142857  \n",
            "13   277.142857  \n",
            "14  4178.116667  \n",
            "15  4178.116667  \n",
            "16  4178.116667  \n",
            "17  4178.116667  \n",
            "18  4178.116667  \n",
            "19  4178.116667  \n",
            "20  4178.116667  \n",
            "21  4178.116667  \n",
            "22  4178.116667  \n",
            "23  4178.116667  \n",
            "24  4178.116667  \n",
            "25  4178.116667  \n",
            "26  4178.116667  \n",
            "27  4178.116667  \n",
            "28  4178.116667  \n",
            "29  4178.116667  \n",
            "30  8689.939560  \n",
            "31  8689.939560  \n",
            "32  8689.939560  \n",
            "33  8689.939560  \n",
            "34  8689.939560  \n",
            "35  8689.939560  \n",
            "36  8689.939560  \n",
            "37  8689.939560  \n",
            "38  8689.939560  \n",
            "39  8689.939560  \n",
            "40  8689.939560  \n",
            "41  8689.939560  \n",
            "42  8689.939560  \n",
            "43  8689.939560  \n",
            "44  3469.583333  \n",
            "45  3469.583333  \n",
            "46  3469.583333  \n",
            "47  3469.583333  \n"
          ]
        }
      ]
    },
    {
      "cell_type": "code",
      "source": [
        "# Group var_data by Date and Min_depth\n",
        "grouped_var = var_data.groupby(['Date', 'Min_depth'])\n",
        "\n",
        "# Calculate the variance of the Count column within each group\n",
        "count_var = grouped_var['Taxa'].count().groupby(['Date', 'Min_depth']).var().reset_index().rename(columns={'Taxa': 'Count_var'})\n",
        "\n",
        "# Merge species_count_data and count_var dataframes\n",
        "merged_data = pd.merge(species_count_data, count_var, on=['Date', 'Min_depth'])\n",
        "\n",
        "# Print the merged dataframe\n",
        "print(merged_data)"
      ],
      "metadata": {
        "colab": {
          "base_uri": "https://localhost:8080/"
        },
        "id": "beKUwBe1k2RE",
        "outputId": "c8385331-a5a1-4dbc-81ed-3dd60291571d"
      },
      "execution_count": 55,
      "outputs": [
        {
          "output_type": "stream",
          "name": "stdout",
          "text": [
            "            acq_id                  Taxa       Date  Count      tv  Min_depth  \\\n",
            "0   tot_n21_221221    Cyclops prealpinus 2022-12-21     64  3.5342       50.0   \n",
            "1   tot_n21_221221    Daphnia<Daphniidae 2022-12-21     22  3.5342       50.0   \n",
            "2   tot_n21_221221          Eubosmina sp 2022-12-21      9  3.5342       50.0   \n",
            "3   tot_n21_221221  Eudiaptomus gracilis 2022-12-21     12  3.5342       50.0   \n",
            "4   tot_n21_221221     Leptodora kindtii 2022-12-21      1  3.5342       50.0   \n",
            "5   tot_n24_221221    Cyclops prealpinus 2022-12-21     33  3.5342       50.0   \n",
            "6   tot_n24_221221    Daphnia<Daphniidae 2022-12-21      7  3.5342       50.0   \n",
            "7   tot_n24_221221          Eubosmina sp 2022-12-21      4  3.5342       50.0   \n",
            "8   tot_n24_221221  Eudiaptomus gracilis 2022-12-21      8  3.5342       50.0   \n",
            "9   tot_n27_221221    Cyclops prealpinus 2022-12-21     25  3.5342       50.0   \n",
            "10  tot_n27_221221    Daphnia<Daphniidae 2022-12-21      7  3.5342       50.0   \n",
            "11  tot_n27_221221          Eubosmina sp 2022-12-21      8  3.5342       50.0   \n",
            "12  tot_n27_221221  Eudiaptomus gracilis 2022-12-21     23  3.5342       50.0   \n",
            "13  tot_n27_221221      nauplii<Copepoda 2022-12-21      5  3.5342       50.0   \n",
            "14  tot_n22_221221    Cyclops prealpinus 2022-12-21    154  2.1206       20.0   \n",
            "15  tot_n22_221221    Daphnia<Daphniidae 2022-12-21     10  2.1206       20.0   \n",
            "16  tot_n22_221221          Eubosmina sp 2022-12-21      5  2.1206       20.0   \n",
            "17  tot_n22_221221  Eudiaptomus gracilis 2022-12-21    133  2.1206       20.0   \n",
            "18  tot_n22_221221      nauplii<Copepoda 2022-12-21     28  2.1206       20.0   \n",
            "19  tot_n25_221221    Cyclops prealpinus 2022-12-21    143  2.1206       20.0   \n",
            "20  tot_n25_221221    Daphnia<Daphniidae 2022-12-21      2  2.1206       20.0   \n",
            "21  tot_n25_221221          Eubosmina sp 2022-12-21      3  2.1206       20.0   \n",
            "22  tot_n25_221221  Eudiaptomus gracilis 2022-12-21    127  2.1206       20.0   \n",
            "23  tot_n25_221221     Leptodora kindtii 2022-12-21      1  2.1206       20.0   \n",
            "24  tot_n25_221221      nauplii<Copepoda 2022-12-21     22  2.1206       20.0   \n",
            "25  tot_n28_221221    Cyclops prealpinus 2022-12-21    120  2.1206       20.0   \n",
            "26  tot_n28_221221    Daphnia<Daphniidae 2022-12-21      7  2.1206       20.0   \n",
            "27  tot_n28_221221          Eubosmina sp 2022-12-21      5  2.1206       20.0   \n",
            "28  tot_n28_221221  Eudiaptomus gracilis 2022-12-21    154  2.1206       20.0   \n",
            "29  tot_n28_221221      nauplii<Copepoda 2022-12-21     32  2.1206       20.0   \n",
            "30  tot_n23_221221    Cyclops prealpinus 2022-12-21     36  1.4137        0.0   \n",
            "31  tot_n23_221221    Daphnia<Daphniidae 2022-12-21     28  1.4137        0.0   \n",
            "32  tot_n23_221221          Eubosmina sp 2022-12-21      1  1.4137        0.0   \n",
            "33  tot_n23_221221  Eudiaptomus gracilis 2022-12-21    160  1.4137        0.0   \n",
            "34  tot_n23_221221      nauplii<Copepoda 2022-12-21     40  1.4137        0.0   \n",
            "35  tot_n26_221221    Cyclops prealpinus 2022-12-21     37  1.4137        0.0   \n",
            "36  tot_n26_221221    Daphnia<Daphniidae 2022-12-21     49  1.4137        0.0   \n",
            "37  tot_n26_221221  Eudiaptomus gracilis 2022-12-21    286  1.4137        0.0   \n",
            "38  tot_n26_221221      nauplii<Copepoda 2022-12-21     41  1.4137        0.0   \n",
            "39  tot_n29_221221    Cyclops prealpinus 2022-12-21     49  1.4137        0.0   \n",
            "40  tot_n29_221221    Daphnia<Daphniidae 2022-12-21     16  1.4137        0.0   \n",
            "41  tot_n29_221221          Eubosmina sp 2022-12-21      2  1.4137        0.0   \n",
            "42  tot_n29_221221  Eudiaptomus gracilis 2022-12-21    265  1.4137        0.0   \n",
            "43  tot_n29_221221      nauplii<Copepoda 2022-12-21     31  1.4137        0.0   \n",
            "44  tot_n42_230209    Cyclops prealpinus 2023-02-09     63  3.5342        0.0   \n",
            "45  tot_n42_230209    Daphnia<Daphniidae 2023-02-09      1  3.5342        0.0   \n",
            "46  tot_n42_230209  Eudiaptomus gracilis 2023-02-09    129  3.5342        0.0   \n",
            "47  tot_n42_230209      nauplii<Copepoda 2023-02-09     10  3.5342        0.0   \n",
            "\n",
            "    Count_var  \n",
            "0         NaN  \n",
            "1         NaN  \n",
            "2         NaN  \n",
            "3         NaN  \n",
            "4         NaN  \n",
            "5         NaN  \n",
            "6         NaN  \n",
            "7         NaN  \n",
            "8         NaN  \n",
            "9         NaN  \n",
            "10        NaN  \n",
            "11        NaN  \n",
            "12        NaN  \n",
            "13        NaN  \n",
            "14        NaN  \n",
            "15        NaN  \n",
            "16        NaN  \n",
            "17        NaN  \n",
            "18        NaN  \n",
            "19        NaN  \n",
            "20        NaN  \n",
            "21        NaN  \n",
            "22        NaN  \n",
            "23        NaN  \n",
            "24        NaN  \n",
            "25        NaN  \n",
            "26        NaN  \n",
            "27        NaN  \n",
            "28        NaN  \n",
            "29        NaN  \n",
            "30        NaN  \n",
            "31        NaN  \n",
            "32        NaN  \n",
            "33        NaN  \n",
            "34        NaN  \n",
            "35        NaN  \n",
            "36        NaN  \n",
            "37        NaN  \n",
            "38        NaN  \n",
            "39        NaN  \n",
            "40        NaN  \n",
            "41        NaN  \n",
            "42        NaN  \n",
            "43        NaN  \n",
            "44        NaN  \n",
            "45        NaN  \n",
            "46        NaN  \n",
            "47        NaN  \n"
          ]
        }
      ]
    },
    {
      "cell_type": "code",
      "source": [
        "# Group the species_count_data dataframe by date and depth\n",
        "grouped_counts = species_count_data.groupby(['Date', 'Min_depth'])\n",
        "\n",
        "# Calculate the variance of the Count column within each group\n",
        "count_var = grouped_counts['Count'].var()"
      ],
      "metadata": {
        "colab": {
          "base_uri": "https://localhost:8080/",
          "height": 381
        },
        "id": "Ed3PMPbhkZPS",
        "outputId": "7b971c74-2312-44da-ef4f-5402e02ede27"
      },
      "execution_count": 40,
      "outputs": [
        {
          "output_type": "error",
          "ename": "KeyError",
          "evalue": "ignored",
          "traceback": [
            "\u001b[0;31m---------------------------------------------------------------------------\u001b[0m",
            "\u001b[0;31mKeyError\u001b[0m                                  Traceback (most recent call last)",
            "\u001b[0;32m<ipython-input-40-180ce25f8253>\u001b[0m in \u001b[0;36m<module>\u001b[0;34m\u001b[0m\n\u001b[1;32m      1\u001b[0m \u001b[0;31m# Group the species_count_data dataframe by date and depth\u001b[0m\u001b[0;34m\u001b[0m\u001b[0;34m\u001b[0m\u001b[0;34m\u001b[0m\u001b[0m\n\u001b[0;32m----> 2\u001b[0;31m \u001b[0mgrouped_counts\u001b[0m \u001b[0;34m=\u001b[0m \u001b[0mspecies_count_data\u001b[0m\u001b[0;34m.\u001b[0m\u001b[0mgroupby\u001b[0m\u001b[0;34m(\u001b[0m\u001b[0;34m[\u001b[0m\u001b[0;34m'Date'\u001b[0m\u001b[0;34m,\u001b[0m \u001b[0;34m'Min_depth'\u001b[0m\u001b[0;34m]\u001b[0m\u001b[0;34m)\u001b[0m\u001b[0;34m\u001b[0m\u001b[0;34m\u001b[0m\u001b[0m\n\u001b[0m\u001b[1;32m      3\u001b[0m \u001b[0;34m\u001b[0m\u001b[0m\n\u001b[1;32m      4\u001b[0m \u001b[0;31m# Calculate the variance of the Count column within each group\u001b[0m\u001b[0;34m\u001b[0m\u001b[0;34m\u001b[0m\u001b[0;34m\u001b[0m\u001b[0m\n\u001b[1;32m      5\u001b[0m \u001b[0mcount_var\u001b[0m \u001b[0;34m=\u001b[0m \u001b[0mgrouped_counts\u001b[0m\u001b[0;34m[\u001b[0m\u001b[0;34m'Count'\u001b[0m\u001b[0;34m]\u001b[0m\u001b[0;34m.\u001b[0m\u001b[0mvar\u001b[0m\u001b[0;34m(\u001b[0m\u001b[0;34m)\u001b[0m\u001b[0;34m\u001b[0m\u001b[0;34m\u001b[0m\u001b[0m\n",
            "\u001b[0;32m/usr/local/lib/python3.8/dist-packages/pandas/core/frame.py\u001b[0m in \u001b[0;36mgroupby\u001b[0;34m(self, by, axis, level, as_index, sort, group_keys, squeeze, observed, dropna)\u001b[0m\n\u001b[1;32m   7629\u001b[0m         \u001b[0;31m# error: Argument \"squeeze\" to \"DataFrameGroupBy\" has incompatible type\u001b[0m\u001b[0;34m\u001b[0m\u001b[0;34m\u001b[0m\u001b[0;34m\u001b[0m\u001b[0m\n\u001b[1;32m   7630\u001b[0m         \u001b[0;31m# \"Union[bool, NoDefault]\"; expected \"bool\"\u001b[0m\u001b[0;34m\u001b[0m\u001b[0;34m\u001b[0m\u001b[0;34m\u001b[0m\u001b[0m\n\u001b[0;32m-> 7631\u001b[0;31m         return DataFrameGroupBy(\n\u001b[0m\u001b[1;32m   7632\u001b[0m             \u001b[0mobj\u001b[0m\u001b[0;34m=\u001b[0m\u001b[0mself\u001b[0m\u001b[0;34m,\u001b[0m\u001b[0;34m\u001b[0m\u001b[0;34m\u001b[0m\u001b[0m\n\u001b[1;32m   7633\u001b[0m             \u001b[0mkeys\u001b[0m\u001b[0;34m=\u001b[0m\u001b[0mby\u001b[0m\u001b[0;34m,\u001b[0m\u001b[0;34m\u001b[0m\u001b[0;34m\u001b[0m\u001b[0m\n",
            "\u001b[0;32m/usr/local/lib/python3.8/dist-packages/pandas/core/groupby/groupby.py\u001b[0m in \u001b[0;36m__init__\u001b[0;34m(self, obj, keys, axis, level, grouper, exclusions, selection, as_index, sort, group_keys, squeeze, observed, mutated, dropna)\u001b[0m\n\u001b[1;32m    887\u001b[0m             \u001b[0;32mfrom\u001b[0m \u001b[0mpandas\u001b[0m\u001b[0;34m.\u001b[0m\u001b[0mcore\u001b[0m\u001b[0;34m.\u001b[0m\u001b[0mgroupby\u001b[0m\u001b[0;34m.\u001b[0m\u001b[0mgrouper\u001b[0m \u001b[0;32mimport\u001b[0m \u001b[0mget_grouper\u001b[0m\u001b[0;34m\u001b[0m\u001b[0;34m\u001b[0m\u001b[0m\n\u001b[1;32m    888\u001b[0m \u001b[0;34m\u001b[0m\u001b[0m\n\u001b[0;32m--> 889\u001b[0;31m             grouper, exclusions, obj = get_grouper(\n\u001b[0m\u001b[1;32m    890\u001b[0m                 \u001b[0mobj\u001b[0m\u001b[0;34m,\u001b[0m\u001b[0;34m\u001b[0m\u001b[0;34m\u001b[0m\u001b[0m\n\u001b[1;32m    891\u001b[0m                 \u001b[0mkeys\u001b[0m\u001b[0;34m,\u001b[0m\u001b[0;34m\u001b[0m\u001b[0;34m\u001b[0m\u001b[0m\n",
            "\u001b[0;32m/usr/local/lib/python3.8/dist-packages/pandas/core/groupby/grouper.py\u001b[0m in \u001b[0;36mget_grouper\u001b[0;34m(obj, key, axis, level, sort, observed, mutated, validate, dropna)\u001b[0m\n\u001b[1;32m    860\u001b[0m                 \u001b[0min_axis\u001b[0m\u001b[0;34m,\u001b[0m \u001b[0mlevel\u001b[0m\u001b[0;34m,\u001b[0m \u001b[0mgpr\u001b[0m \u001b[0;34m=\u001b[0m \u001b[0;32mFalse\u001b[0m\u001b[0;34m,\u001b[0m \u001b[0mgpr\u001b[0m\u001b[0;34m,\u001b[0m \u001b[0;32mNone\u001b[0m\u001b[0;34m\u001b[0m\u001b[0;34m\u001b[0m\u001b[0m\n\u001b[1;32m    861\u001b[0m             \u001b[0;32melse\u001b[0m\u001b[0;34m:\u001b[0m\u001b[0;34m\u001b[0m\u001b[0;34m\u001b[0m\u001b[0m\n\u001b[0;32m--> 862\u001b[0;31m                 \u001b[0;32mraise\u001b[0m \u001b[0mKeyError\u001b[0m\u001b[0;34m(\u001b[0m\u001b[0mgpr\u001b[0m\u001b[0;34m)\u001b[0m\u001b[0;34m\u001b[0m\u001b[0;34m\u001b[0m\u001b[0m\n\u001b[0m\u001b[1;32m    863\u001b[0m         \u001b[0;32melif\u001b[0m \u001b[0misinstance\u001b[0m\u001b[0;34m(\u001b[0m\u001b[0mgpr\u001b[0m\u001b[0;34m,\u001b[0m \u001b[0mGrouper\u001b[0m\u001b[0;34m)\u001b[0m \u001b[0;32mand\u001b[0m \u001b[0mgpr\u001b[0m\u001b[0;34m.\u001b[0m\u001b[0mkey\u001b[0m \u001b[0;32mis\u001b[0m \u001b[0;32mnot\u001b[0m \u001b[0;32mNone\u001b[0m\u001b[0;34m:\u001b[0m\u001b[0;34m\u001b[0m\u001b[0;34m\u001b[0m\u001b[0m\n\u001b[1;32m    864\u001b[0m             \u001b[0;31m# Add key to exclusions\u001b[0m\u001b[0;34m\u001b[0m\u001b[0;34m\u001b[0m\u001b[0;34m\u001b[0m\u001b[0m\n",
            "\u001b[0;31mKeyError\u001b[0m: 'Min_depth'"
          ]
        }
      ]
    },
    {
      "cell_type": "code",
      "source": [
        "print (species_count_data)"
      ],
      "metadata": {
        "colab": {
          "base_uri": "https://localhost:8080/"
        },
        "id": "3Fv-KEV3ixPJ",
        "outputId": "47a46f56-9e1f-4c33-bfa3-1d31a6f74aa1"
      },
      "execution_count": 37,
      "outputs": [
        {
          "output_type": "stream",
          "name": "stdout",
          "text": [
            "                                                Count      tv\n",
            "acq_id         Taxa                 Date                     \n",
            "tot_n21_221221 Cyclops prealpinus   2022-12-21     64  3.5342\n",
            "               Daphnia<Daphniidae   2022-12-21     22  3.5342\n",
            "               Eubosmina sp         2022-12-21      9  3.5342\n",
            "               Eudiaptomus gracilis 2022-12-21     12  3.5342\n",
            "               Leptodora kindtii    2022-12-21      1  3.5342\n",
            "tot_n22_221221 Cyclops prealpinus   2022-12-21    154  2.1206\n",
            "               Daphnia<Daphniidae   2022-12-21     10  2.1206\n",
            "               Eubosmina sp         2022-12-21      5  2.1206\n",
            "               Eudiaptomus gracilis 2022-12-21    133  2.1206\n",
            "               nauplii<Copepoda     2022-12-21     28  2.1206\n",
            "tot_n23_221221 Cyclops prealpinus   2022-12-21     36  1.4137\n",
            "               Daphnia<Daphniidae   2022-12-21     28  1.4137\n",
            "               Eubosmina sp         2022-12-21      1  1.4137\n",
            "               Eudiaptomus gracilis 2022-12-21    160  1.4137\n",
            "               nauplii<Copepoda     2022-12-21     40  1.4137\n",
            "tot_n24_221221 Cyclops prealpinus   2022-12-21     33  3.5342\n",
            "               Daphnia<Daphniidae   2022-12-21      7  3.5342\n",
            "               Eubosmina sp         2022-12-21      4  3.5342\n",
            "               Eudiaptomus gracilis 2022-12-21      8  3.5342\n",
            "tot_n25_221221 Cyclops prealpinus   2022-12-21    143  2.1206\n",
            "               Daphnia<Daphniidae   2022-12-21      2  2.1206\n",
            "               Eubosmina sp         2022-12-21      3  2.1206\n",
            "               Eudiaptomus gracilis 2022-12-21    127  2.1206\n",
            "               Leptodora kindtii    2022-12-21      1  2.1206\n",
            "               nauplii<Copepoda     2022-12-21     22  2.1206\n",
            "tot_n26_221221 Cyclops prealpinus   2022-12-21     37  1.4137\n",
            "               Daphnia<Daphniidae   2022-12-21     49  1.4137\n",
            "               Eudiaptomus gracilis 2022-12-21    286  1.4137\n",
            "               nauplii<Copepoda     2022-12-21     41  1.4137\n",
            "tot_n27_221221 Cyclops prealpinus   2022-12-21     25  3.5342\n",
            "               Daphnia<Daphniidae   2022-12-21      7  3.5342\n",
            "               Eubosmina sp         2022-12-21      8  3.5342\n",
            "               Eudiaptomus gracilis 2022-12-21     23  3.5342\n",
            "               nauplii<Copepoda     2022-12-21      5  3.5342\n",
            "tot_n28_221221 Cyclops prealpinus   2022-12-21    120  2.1206\n",
            "               Daphnia<Daphniidae   2022-12-21      7  2.1206\n",
            "               Eubosmina sp         2022-12-21      5  2.1206\n",
            "               Eudiaptomus gracilis 2022-12-21    154  2.1206\n",
            "               nauplii<Copepoda     2022-12-21     32  2.1206\n",
            "tot_n29_221221 Cyclops prealpinus   2022-12-21     49  1.4137\n",
            "               Daphnia<Daphniidae   2022-12-21     16  1.4137\n",
            "               Eubosmina sp         2022-12-21      2  1.4137\n",
            "               Eudiaptomus gracilis 2022-12-21    265  1.4137\n",
            "               nauplii<Copepoda     2022-12-21     31  1.4137\n",
            "tot_n42_230209 Cyclops prealpinus   2023-02-09     63  3.5342\n",
            "               Daphnia<Daphniidae   2023-02-09      1  3.5342\n",
            "               Eudiaptomus gracilis 2023-02-09    129  3.5342\n",
            "               nauplii<Copepoda     2023-02-09     10  3.5342\n"
          ]
        }
      ]
    },
    {
      "cell_type": "code",
      "source": [
        "concentration_data = species_count_data.copy()\n",
        "concentration_data['Concentration'] = concentration_data['Count'] / concentration_data['tv']\n",
        "concentration_data.reset_index(inplace=True)"
      ],
      "metadata": {
        "id": "798L68ohe6IM"
      },
      "execution_count": 29,
      "outputs": []
    },
    {
      "cell_type": "code",
      "source": [
        "variation_data = pd.merge(concentration_data, grouped_data[['acq_id', 'Min_depth']], on='acq_id')"
      ],
      "metadata": {
        "colab": {
          "base_uri": "https://localhost:8080/",
          "height": 311
        },
        "id": "7MSEd22MiIOU",
        "outputId": "5728b4ac-5095-4214-e280-cff9b489db29"
      },
      "execution_count": 38,
      "outputs": [
        {
          "output_type": "error",
          "ename": "TypeError",
          "evalue": "ignored",
          "traceback": [
            "\u001b[0;31m---------------------------------------------------------------------------\u001b[0m",
            "\u001b[0;31mTypeError\u001b[0m                                 Traceback (most recent call last)",
            "\u001b[0;32m<ipython-input-38-59f7ce33aeb5>\u001b[0m in \u001b[0;36m<module>\u001b[0;34m\u001b[0m\n\u001b[0;32m----> 1\u001b[0;31m \u001b[0mvariation_data\u001b[0m \u001b[0;34m=\u001b[0m \u001b[0mpd\u001b[0m\u001b[0;34m.\u001b[0m\u001b[0mmerge\u001b[0m\u001b[0;34m(\u001b[0m\u001b[0mconcentration_data\u001b[0m\u001b[0;34m,\u001b[0m \u001b[0mgrouped_data\u001b[0m\u001b[0;34m[\u001b[0m\u001b[0;34m[\u001b[0m\u001b[0;34m'acq_id'\u001b[0m\u001b[0;34m,\u001b[0m \u001b[0;34m'Min_depth'\u001b[0m\u001b[0;34m]\u001b[0m\u001b[0;34m]\u001b[0m\u001b[0;34m,\u001b[0m \u001b[0mon\u001b[0m\u001b[0;34m=\u001b[0m\u001b[0;34m'acq_id'\u001b[0m\u001b[0;34m)\u001b[0m\u001b[0;34m\u001b[0m\u001b[0;34m\u001b[0m\u001b[0m\n\u001b[0m",
            "\u001b[0;32m/usr/local/lib/python3.8/dist-packages/pandas/core/reshape/merge.py\u001b[0m in \u001b[0;36mmerge\u001b[0;34m(left, right, how, on, left_on, right_on, left_index, right_index, sort, suffixes, copy, indicator, validate)\u001b[0m\n\u001b[1;32m    104\u001b[0m     \u001b[0mvalidate\u001b[0m\u001b[0;34m:\u001b[0m \u001b[0mstr\u001b[0m \u001b[0;34m|\u001b[0m \u001b[0;32mNone\u001b[0m \u001b[0;34m=\u001b[0m \u001b[0;32mNone\u001b[0m\u001b[0;34m,\u001b[0m\u001b[0;34m\u001b[0m\u001b[0;34m\u001b[0m\u001b[0m\n\u001b[1;32m    105\u001b[0m ) -> DataFrame:\n\u001b[0;32m--> 106\u001b[0;31m     op = _MergeOperation(\n\u001b[0m\u001b[1;32m    107\u001b[0m         \u001b[0mleft\u001b[0m\u001b[0;34m,\u001b[0m\u001b[0;34m\u001b[0m\u001b[0;34m\u001b[0m\u001b[0m\n\u001b[1;32m    108\u001b[0m         \u001b[0mright\u001b[0m\u001b[0;34m,\u001b[0m\u001b[0;34m\u001b[0m\u001b[0;34m\u001b[0m\u001b[0m\n",
            "\u001b[0;32m/usr/local/lib/python3.8/dist-packages/pandas/core/reshape/merge.py\u001b[0m in \u001b[0;36m__init__\u001b[0;34m(self, left, right, how, on, left_on, right_on, axis, left_index, right_index, sort, suffixes, copy, indicator, validate)\u001b[0m\n\u001b[1;32m    626\u001b[0m     ):\n\u001b[1;32m    627\u001b[0m         \u001b[0m_left\u001b[0m \u001b[0;34m=\u001b[0m \u001b[0m_validate_operand\u001b[0m\u001b[0;34m(\u001b[0m\u001b[0mleft\u001b[0m\u001b[0;34m)\u001b[0m\u001b[0;34m\u001b[0m\u001b[0;34m\u001b[0m\u001b[0m\n\u001b[0;32m--> 628\u001b[0;31m         \u001b[0m_right\u001b[0m \u001b[0;34m=\u001b[0m \u001b[0m_validate_operand\u001b[0m\u001b[0;34m(\u001b[0m\u001b[0mright\u001b[0m\u001b[0;34m)\u001b[0m\u001b[0;34m\u001b[0m\u001b[0;34m\u001b[0m\u001b[0m\n\u001b[0m\u001b[1;32m    629\u001b[0m         \u001b[0mself\u001b[0m\u001b[0;34m.\u001b[0m\u001b[0mleft\u001b[0m \u001b[0;34m=\u001b[0m \u001b[0mself\u001b[0m\u001b[0;34m.\u001b[0m\u001b[0morig_left\u001b[0m \u001b[0;34m=\u001b[0m \u001b[0m_left\u001b[0m\u001b[0;34m\u001b[0m\u001b[0;34m\u001b[0m\u001b[0m\n\u001b[1;32m    630\u001b[0m         \u001b[0mself\u001b[0m\u001b[0;34m.\u001b[0m\u001b[0mright\u001b[0m \u001b[0;34m=\u001b[0m \u001b[0mself\u001b[0m\u001b[0;34m.\u001b[0m\u001b[0morig_right\u001b[0m \u001b[0;34m=\u001b[0m \u001b[0m_right\u001b[0m\u001b[0;34m\u001b[0m\u001b[0;34m\u001b[0m\u001b[0m\n",
            "\u001b[0;32m/usr/local/lib/python3.8/dist-packages/pandas/core/reshape/merge.py\u001b[0m in \u001b[0;36m_validate_operand\u001b[0;34m(obj)\u001b[0m\n\u001b[1;32m   2280\u001b[0m             \u001b[0;32mreturn\u001b[0m \u001b[0mobj\u001b[0m\u001b[0;34m.\u001b[0m\u001b[0mto_frame\u001b[0m\u001b[0;34m(\u001b[0m\u001b[0;34m)\u001b[0m\u001b[0;34m\u001b[0m\u001b[0;34m\u001b[0m\u001b[0m\n\u001b[1;32m   2281\u001b[0m     \u001b[0;32melse\u001b[0m\u001b[0;34m:\u001b[0m\u001b[0;34m\u001b[0m\u001b[0;34m\u001b[0m\u001b[0m\n\u001b[0;32m-> 2282\u001b[0;31m         raise TypeError(\n\u001b[0m\u001b[1;32m   2283\u001b[0m             \u001b[0;34mf\"Can only merge Series or DataFrame objects, a {type(obj)} was passed\"\u001b[0m\u001b[0;34m\u001b[0m\u001b[0;34m\u001b[0m\u001b[0m\n\u001b[1;32m   2284\u001b[0m         )\n",
            "\u001b[0;31mTypeError\u001b[0m: Can only merge Series or DataFrame objects, a <class 'pandas.core.groupby.generic.DataFrameGroupBy'> was passed"
          ]
        }
      ]
    },
    {
      "cell_type": "code",
      "source": [
        "print(variation_data)"
      ],
      "metadata": {
        "colab": {
          "base_uri": "https://localhost:8080/"
        },
        "id": "Z05ZC2WFfEZf",
        "outputId": "8bd71b10-1d75-4267-ee71-50eddc5551fe"
      },
      "execution_count": 36,
      "outputs": [
        {
          "output_type": "stream",
          "name": "stdout",
          "text": [
            "               acq_id                Taxa       Date  Count      tv  \\\n",
            "0      tot_n21_221221  Cyclops prealpinus 2022-12-21     64  3.5342   \n",
            "1      tot_n21_221221  Cyclops prealpinus 2022-12-21     64  3.5342   \n",
            "2      tot_n21_221221  Cyclops prealpinus 2022-12-21     64  3.5342   \n",
            "3      tot_n21_221221  Cyclops prealpinus 2022-12-21     64  3.5342   \n",
            "4      tot_n21_221221  Cyclops prealpinus 2022-12-21     64  3.5342   \n",
            "...               ...                 ...        ...    ...     ...   \n",
            "11715  tot_n42_230209    nauplii<Copepoda 2023-02-09     10  3.5342   \n",
            "11716  tot_n42_230209    nauplii<Copepoda 2023-02-09     10  3.5342   \n",
            "11717  tot_n42_230209    nauplii<Copepoda 2023-02-09     10  3.5342   \n",
            "11718  tot_n42_230209    nauplii<Copepoda 2023-02-09     10  3.5342   \n",
            "11719  tot_n42_230209    nauplii<Copepoda 2023-02-09     10  3.5342   \n",
            "\n",
            "       Concentration  Min_depth  \n",
            "0          18.108766       50.0  \n",
            "1          18.108766       50.0  \n",
            "2          18.108766       50.0  \n",
            "3          18.108766       50.0  \n",
            "4          18.108766       50.0  \n",
            "...              ...        ...  \n",
            "11715       2.829495        0.0  \n",
            "11716       2.829495        0.0  \n",
            "11717       2.829495        0.0  \n",
            "11718       2.829495        0.0  \n",
            "11719       2.829495        0.0  \n",
            "\n",
            "[11720 rows x 7 columns]\n"
          ]
        }
      ]
    }
  ]
}
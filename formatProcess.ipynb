{
  "nbformat": 4,
  "nbformat_minor": 0,
  "metadata": {
    "colab": {
      "provenance": [],
      "authorship_tag": "ABX9TyOxDJj31Z4Fb7nMrtQZrrK/",
      "include_colab_link": true
    },
    "kernelspec": {
      "name": "python3",
      "display_name": "Python 3"
    },
    "language_info": {
      "name": "python"
    }
  },
  "cells": [
    {
      "cell_type": "markdown",
      "metadata": {
        "id": "view-in-github",
        "colab_type": "text"
      },
      "source": [
        "<a href=\"https://colab.research.google.com/github/JerKeller/MP-Ecotaxa/blob/main/formatProcess.ipynb\" target=\"_parent\"><img src=\"https://colab.research.google.com/assets/colab-badge.svg\" alt=\"Open In Colab\"/></a>"
      ]
    },
    {
      "cell_type": "code",
      "execution_count": 1,
      "metadata": {
        "colab": {
          "base_uri": "https://localhost:8080/"
        },
        "id": "hWxDqWaKJo7p",
        "outputId": "142adb5f-eb5b-48c2-ffc9-04e455ac5134"
      },
      "outputs": [
        {
          "output_type": "stream",
          "name": "stdout",
          "text": [
            "Mounted at /content/drive\n"
          ]
        }
      ],
      "source": [
        "# Importing libraries\n",
        "import pandas as pd\n",
        "import numpy as np\n",
        "import os\n",
        "import sys\n",
        "import subprocess\n",
        "from plotnine import ggplot, aes, geom_point, geom_line, labs, ggtitle, scale_y_log10\n",
        "import matplotlib.pyplot as plt\n",
        "import seaborn as sns\n",
        "\n",
        "\n",
        "from google.colab import drive\n",
        "\n",
        "\n",
        "drive.mount('/content/drive')"
      ]
    },
    {
      "cell_type": "code",
      "source": [
        "ecotaxa_process = '/content/drive/MyDrive/Ecotaxa_analysis/ecotaxa_process.tsv'\n",
        "tsv_read = pd.read_csv(ecotaxa_process, sep='\\t')"
      ],
      "metadata": {
        "id": "3E58N6m2JwWW"
      },
      "execution_count": 27,
      "outputs": []
    },
    {
      "cell_type": "code",
      "source": [
        "sub1 = tsv_read[['img_file_name','object_id','object_date','object_time', 'object_depth_min', 'object_depth_max', 'object_annotation_category',\n",
        "                 'object_area', 'object_area_exc', 'object_major', 'object_minor', 'sample_tot_vol', 'process_particle_pixel_size_mm',\n",
        "                 'acq_id']]"
      ],
      "metadata": {
        "id": "vwJElOynKD5M"
      },
      "execution_count": 29,
      "outputs": []
    },
    {
      "cell_type": "code",
      "source": [
        "sub1.columns = ['img_file_name','Label', 'Date', 'Hour', 'Min_depth', 'Max_depth', 'Taxa', 'area', 'areaExc', 'major', 'minor',\n",
        "                'Tow_Vol', 'pixel_size_mm', 'acq_id']"
      ],
      "metadata": {
        "id": "oen2_5zhfvmd"
      },
      "execution_count": 30,
      "outputs": []
    },
    {
      "cell_type": "code",
      "source": [
        "sub2 = sub1[(sub1['Taxa'] != 'badfocus<artefact') & (sub1['Taxa'] != 'fiber<detritus') &\n",
        "            (sub1['Taxa'] != 'multiple<other') & (sub1['Taxa'] != 'detritus') &\n",
        "            (sub1['Taxa'] != 'egg sac<egg') & (sub1['Taxa'] != 't001') &\n",
        "            (sub1['Taxa'] != 't002') & (sub1['Taxa'] != 't003') &\n",
        "            (sub1['Taxa'] != 'othertocheck') & (sub1['Taxa'] != 'artefact') &\n",
        "            (sub1['Taxa'] != 'bubble') & (sub1['Taxa'] != 'dead<Copepoda')].copy()"
      ],
      "metadata": {
        "id": "ZZO1f1dcf5AF"
      },
      "execution_count": 31,
      "outputs": []
    },
    {
      "cell_type": "code",
      "source": [
        "print(sub2)"
      ],
      "metadata": {
        "colab": {
          "base_uri": "https://localhost:8080/"
        },
        "id": "zHpN8Gwgf7uJ",
        "outputId": "ca79563e-428d-45c2-b368-26b0e56784f4"
      },
      "execution_count": 32,
      "outputs": [
        {
          "output_type": "stream",
          "name": "stdout",
          "text": [
            "                                           img_file_name         Label  \\\n",
            "0         images/nauplii_Copepoda__92767/469475100_0.jpg     1_tot_1_2   \n",
            "1       images/Cyclops prealpinus__94178/469475101_0.jpg     1_tot_1_3   \n",
            "3      images/Eudiaptomus gracilis__82470/469475103_0...     1_tot_1_5   \n",
            "5       images/Cyclops prealpinus__94178/469475110_0.jpg    1_tot_1_12   \n",
            "6         images/nauplii_Copepoda__92767/469475114_0.jpg    1_tot_1_16   \n",
            "...                                                  ...           ...   \n",
            "20632     images/nauplii_Copepoda__92767/469507726_0.jpg  9_tot_1_2019   \n",
            "20633   images/Cyclops prealpinus__94178/469507727_0.jpg  9_tot_1_2020   \n",
            "20635   images/Cyclops prealpinus__94178/469507729_0.jpg  9_tot_1_2022   \n",
            "20636   images/Cyclops prealpinus__94178/469507731_0.jpg  9_tot_1_2024   \n",
            "20637     images/nauplii_Copepoda__92767/469507732_0.jpg  9_tot_1_2025   \n",
            "\n",
            "           Date    Hour  Min_depth  Max_depth                  Taxa    area  \\\n",
            "0      20230523  154500        0.0      100.0      nauplii<Copepoda  1087.0   \n",
            "1      20230523  154500        0.0      100.0    Cyclops prealpinus  2991.0   \n",
            "3      20230523  154500        0.0      100.0  Eudiaptomus gracilis  3703.0   \n",
            "5      20230523  154500        0.0      100.0    Cyclops prealpinus  6844.0   \n",
            "6      20230523  154500        0.0      100.0      nauplii<Copepoda   829.0   \n",
            "...         ...     ...        ...        ...                   ...     ...   \n",
            "20632  20230523  201000        0.0      100.0      nauplii<Copepoda  1043.0   \n",
            "20633  20230523  201000        0.0      100.0    Cyclops prealpinus  4844.0   \n",
            "20635  20230523  201000        0.0      100.0    Cyclops prealpinus  8519.0   \n",
            "20636  20230523  201000        0.0      100.0    Cyclops prealpinus  2198.0   \n",
            "20637  20230523  201000        0.0      100.0      nauplii<Copepoda  1023.0   \n",
            "\n",
            "       areaExc  major  minor  Tow_Vol  pixel_size_mm acq_id  \n",
            "0       1085.0   43.1   32.1   7.0686         0.0106  tot_1  \n",
            "1       2990.0   86.9   43.8   7.0686         0.0106  tot_1  \n",
            "3       3703.0   76.4   61.7   7.0686         0.0106  tot_1  \n",
            "5       6798.0  148.6   58.7   7.0686         0.0106  tot_1  \n",
            "6        829.0   34.3   30.8   7.0686         0.0106  tot_1  \n",
            "...        ...    ...    ...      ...            ...    ...  \n",
            "20632   1041.0   37.0   35.8   7.0686         0.0106  tot_9  \n",
            "20633   4690.0  122.5   50.4   7.0686         0.0106  tot_9  \n",
            "20635   8516.0  166.9   65.0   7.0686         0.0106  tot_9  \n",
            "20636   2196.0   72.9   38.4   7.0686         0.0106  tot_9  \n",
            "20637   1023.0   37.6   34.6   7.0686         0.0106  tot_9  \n",
            "\n",
            "[14476 rows x 14 columns]\n"
          ]
        }
      ]
    },
    {
      "cell_type": "code",
      "source": [
        "substrat = sub2[~sub2['acq_id'].isin(['tot_1','tot_8','tot_9','tot_16','tot_17','tot_18','tot_19','tot_20','tot_21','tot_22',\n",
        "                                      'tot_29','tot_30','tot_37'])].copy()"
      ],
      "metadata": {
        "id": "I_DsX8PygLGU"
      },
      "execution_count": 33,
      "outputs": []
    },
    {
      "cell_type": "code",
      "source": [
        "print(substrat)"
      ],
      "metadata": {
        "colab": {
          "base_uri": "https://localhost:8080/"
        },
        "id": "1Cs3yBUwGn-o",
        "outputId": "2b8b209a-44e5-4bbf-8704-824aabf327e3"
      },
      "execution_count": 34,
      "outputs": [
        {
          "output_type": "stream",
          "name": "stdout",
          "text": [
            "                                           img_file_name         Label  \\\n",
            "1243   images/Eudiaptomus gracilis__82470/469466060_0...   10_tot_1_10   \n",
            "1256   images/Eudiaptomus gracilis__82470/469466077_0...   10_tot_1_27   \n",
            "1292   images/Eudiaptomus gracilis__82470/469466130_0...   10_tot_1_80   \n",
            "1308      images/nauplii_Copepoda__92767/469466169_0.jpg  10_tot_1_119   \n",
            "1313   images/Eudiaptomus gracilis__82470/469466177_0...  10_tot_1_127   \n",
            "...                                                  ...           ...   \n",
            "19514  images/Eudiaptomus gracilis__82470/469505648_0...   7_tot_1_403   \n",
            "19515   images/Daphnia_Daphniidae__81932/469505655_0.jpg   7_tot_1_410   \n",
            "19520    images/Leptodora kindtii__82393/469505669_0.jpg   7_tot_1_424   \n",
            "19527  images/Eudiaptomus gracilis__82470/469505689_0...   7_tot_1_444   \n",
            "19529   images/Cyclops prealpinus__94178/469505691_0.jpg   7_tot_1_446   \n",
            "\n",
            "           Date    Hour  Min_depth  Max_depth                  Taxa     area  \\\n",
            "1243   20230523  203000       80.0      100.0  Eudiaptomus gracilis   3590.0   \n",
            "1256   20230523  203000       80.0      100.0  Eudiaptomus gracilis   2747.0   \n",
            "1292   20230523  203000       80.0      100.0  Eudiaptomus gracilis   3501.0   \n",
            "1308   20230523  203000       80.0      100.0      nauplii<Copepoda    870.0   \n",
            "1313   20230523  203000       80.0      100.0  Eudiaptomus gracilis   1632.0   \n",
            "...         ...     ...        ...        ...                   ...      ...   \n",
            "19514  20230523  172700        0.0       10.0  Eudiaptomus gracilis   4021.0   \n",
            "19515  20230523  172700        0.0       10.0    Daphnia<Daphniidae  11431.0   \n",
            "19520  20230523  172700        0.0       10.0     Leptodora kindtii  20964.0   \n",
            "19527  20230523  172700        0.0       10.0  Eudiaptomus gracilis   4710.0   \n",
            "19529  20230523  172700        0.0       10.0    Cyclops prealpinus   1600.0   \n",
            "\n",
            "       areaExc  major  minor  Tow_Vol  pixel_size_mm  acq_id  \n",
            "1243    3589.0   72.8   62.8  1.41370         0.0106  tot_10  \n",
            "1256    2744.0   64.8   54.0  1.41370         0.0106  tot_10  \n",
            "1292    3501.0  104.2   42.8  1.41370         0.0106  tot_10  \n",
            "1308     869.0   38.1   29.1  1.41370         0.0106  tot_10  \n",
            "1313    1631.0   53.1   39.2  1.41370         0.0106  tot_10  \n",
            "...        ...    ...    ...      ...            ...     ...  \n",
            "19514   4021.0  125.9   40.7  0.70686         0.0106   tot_7  \n",
            "19515  11419.0  189.6   76.8  0.70686         0.0106   tot_7  \n",
            "19520  20806.0  332.7   80.2  0.70686         0.0106   tot_7  \n",
            "19527   4665.0  130.1   46.1  0.70686         0.0106   tot_7  \n",
            "19529   1600.0   63.8   31.9  0.70686         0.0106   tot_7  \n",
            "\n",
            "[6895 rows x 14 columns]\n"
          ]
        }
      ]
    },
    {
      "cell_type": "code",
      "source": [
        "substrat['acq_id'] = substrat['acq_id'].apply(lambda x: x.split('_')[1])"
      ],
      "metadata": {
        "id": "a1AvSufNGiHs"
      },
      "execution_count": 35,
      "outputs": []
    },
    {
      "cell_type": "code",
      "source": [
        "print(substrat)"
      ],
      "metadata": {
        "colab": {
          "base_uri": "https://localhost:8080/"
        },
        "id": "xrhJaIqTGvzc",
        "outputId": "1711498e-793d-4955-8d7d-74a0a56cb745"
      },
      "execution_count": 36,
      "outputs": [
        {
          "output_type": "stream",
          "name": "stdout",
          "text": [
            "                                           img_file_name         Label  \\\n",
            "1243   images/Eudiaptomus gracilis__82470/469466060_0...   10_tot_1_10   \n",
            "1256   images/Eudiaptomus gracilis__82470/469466077_0...   10_tot_1_27   \n",
            "1292   images/Eudiaptomus gracilis__82470/469466130_0...   10_tot_1_80   \n",
            "1308      images/nauplii_Copepoda__92767/469466169_0.jpg  10_tot_1_119   \n",
            "1313   images/Eudiaptomus gracilis__82470/469466177_0...  10_tot_1_127   \n",
            "...                                                  ...           ...   \n",
            "19514  images/Eudiaptomus gracilis__82470/469505648_0...   7_tot_1_403   \n",
            "19515   images/Daphnia_Daphniidae__81932/469505655_0.jpg   7_tot_1_410   \n",
            "19520    images/Leptodora kindtii__82393/469505669_0.jpg   7_tot_1_424   \n",
            "19527  images/Eudiaptomus gracilis__82470/469505689_0...   7_tot_1_444   \n",
            "19529   images/Cyclops prealpinus__94178/469505691_0.jpg   7_tot_1_446   \n",
            "\n",
            "           Date    Hour  Min_depth  Max_depth                  Taxa     area  \\\n",
            "1243   20230523  203000       80.0      100.0  Eudiaptomus gracilis   3590.0   \n",
            "1256   20230523  203000       80.0      100.0  Eudiaptomus gracilis   2747.0   \n",
            "1292   20230523  203000       80.0      100.0  Eudiaptomus gracilis   3501.0   \n",
            "1308   20230523  203000       80.0      100.0      nauplii<Copepoda    870.0   \n",
            "1313   20230523  203000       80.0      100.0  Eudiaptomus gracilis   1632.0   \n",
            "...         ...     ...        ...        ...                   ...      ...   \n",
            "19514  20230523  172700        0.0       10.0  Eudiaptomus gracilis   4021.0   \n",
            "19515  20230523  172700        0.0       10.0    Daphnia<Daphniidae  11431.0   \n",
            "19520  20230523  172700        0.0       10.0     Leptodora kindtii  20964.0   \n",
            "19527  20230523  172700        0.0       10.0  Eudiaptomus gracilis   4710.0   \n",
            "19529  20230523  172700        0.0       10.0    Cyclops prealpinus   1600.0   \n",
            "\n",
            "       areaExc  major  minor  Tow_Vol  pixel_size_mm acq_id  \n",
            "1243    3589.0   72.8   62.8  1.41370         0.0106     10  \n",
            "1256    2744.0   64.8   54.0  1.41370         0.0106     10  \n",
            "1292    3501.0  104.2   42.8  1.41370         0.0106     10  \n",
            "1308     869.0   38.1   29.1  1.41370         0.0106     10  \n",
            "1313    1631.0   53.1   39.2  1.41370         0.0106     10  \n",
            "...        ...    ...    ...      ...            ...    ...  \n",
            "19514   4021.0  125.9   40.7  0.70686         0.0106      7  \n",
            "19515  11419.0  189.6   76.8  0.70686         0.0106      7  \n",
            "19520  20806.0  332.7   80.2  0.70686         0.0106      7  \n",
            "19527   4665.0  130.1   46.1  0.70686         0.0106      7  \n",
            "19529   1600.0   63.8   31.9  0.70686         0.0106      7  \n",
            "\n",
            "[6895 rows x 14 columns]\n"
          ]
        }
      ]
    },
    {
      "cell_type": "code",
      "source": [
        "substrat['Area_mm2'] = substrat['area'] * ((substrat['pixel_size_mm']) ** 2)\n",
        "substrat['AreaExc_mm2'] = substrat['areaExc'] * ((substrat['pixel_size_mm']) ** 2)\n",
        "substrat['Major_mm'] = substrat['major'] * substrat['pixel_size_mm']\n",
        "substrat['Minor_mm'] = substrat['minor'] * substrat['pixel_size_mm']"
      ],
      "metadata": {
        "id": "QEmxBcuVgNwl"
      },
      "execution_count": 37,
      "outputs": []
    },
    {
      "cell_type": "code",
      "source": [
        "substrat['Date'] = pd.to_datetime(substrat['Date'], format='%Y%m%d')"
      ],
      "metadata": {
        "id": "DtIWmpkIgPeY"
      },
      "execution_count": 10,
      "outputs": []
    },
    {
      "cell_type": "code",
      "source": [
        "substrat['V_mm3'] = (4 / 3) * np.pi * ((substrat['Major_mm'] / 2) * (substrat['Minor_mm'] / 2) * (substrat['Minor_mm'] / 2))"
      ],
      "metadata": {
        "id": "wB_4my3vgUmU"
      },
      "execution_count": 38,
      "outputs": []
    },
    {
      "cell_type": "code",
      "source": [
        "ecotaxa_processed_mai=substrat"
      ],
      "metadata": {
        "id": "7ReJyygegb_j"
      },
      "execution_count": 39,
      "outputs": []
    },
    {
      "cell_type": "code",
      "source": [
        "print(ecotaxa_processed_mai)"
      ],
      "metadata": {
        "colab": {
          "base_uri": "https://localhost:8080/"
        },
        "id": "XDgWegCKgnzr",
        "outputId": "f23ca724-ed6e-4433-a312-61d1aea5c91e"
      },
      "execution_count": 40,
      "outputs": [
        {
          "output_type": "stream",
          "name": "stdout",
          "text": [
            "                                           img_file_name         Label  \\\n",
            "1243   images/Eudiaptomus gracilis__82470/469466060_0...   10_tot_1_10   \n",
            "1256   images/Eudiaptomus gracilis__82470/469466077_0...   10_tot_1_27   \n",
            "1292   images/Eudiaptomus gracilis__82470/469466130_0...   10_tot_1_80   \n",
            "1308      images/nauplii_Copepoda__92767/469466169_0.jpg  10_tot_1_119   \n",
            "1313   images/Eudiaptomus gracilis__82470/469466177_0...  10_tot_1_127   \n",
            "...                                                  ...           ...   \n",
            "19514  images/Eudiaptomus gracilis__82470/469505648_0...   7_tot_1_403   \n",
            "19515   images/Daphnia_Daphniidae__81932/469505655_0.jpg   7_tot_1_410   \n",
            "19520    images/Leptodora kindtii__82393/469505669_0.jpg   7_tot_1_424   \n",
            "19527  images/Eudiaptomus gracilis__82470/469505689_0...   7_tot_1_444   \n",
            "19529   images/Cyclops prealpinus__94178/469505691_0.jpg   7_tot_1_446   \n",
            "\n",
            "           Date    Hour  Min_depth  Max_depth                  Taxa     area  \\\n",
            "1243   20230523  203000       80.0      100.0  Eudiaptomus gracilis   3590.0   \n",
            "1256   20230523  203000       80.0      100.0  Eudiaptomus gracilis   2747.0   \n",
            "1292   20230523  203000       80.0      100.0  Eudiaptomus gracilis   3501.0   \n",
            "1308   20230523  203000       80.0      100.0      nauplii<Copepoda    870.0   \n",
            "1313   20230523  203000       80.0      100.0  Eudiaptomus gracilis   1632.0   \n",
            "...         ...     ...        ...        ...                   ...      ...   \n",
            "19514  20230523  172700        0.0       10.0  Eudiaptomus gracilis   4021.0   \n",
            "19515  20230523  172700        0.0       10.0    Daphnia<Daphniidae  11431.0   \n",
            "19520  20230523  172700        0.0       10.0     Leptodora kindtii  20964.0   \n",
            "19527  20230523  172700        0.0       10.0  Eudiaptomus gracilis   4710.0   \n",
            "19529  20230523  172700        0.0       10.0    Cyclops prealpinus   1600.0   \n",
            "\n",
            "       areaExc  major  minor  Tow_Vol  pixel_size_mm acq_id  Area_mm2  \\\n",
            "1243    3589.0   72.8   62.8  1.41370         0.0106     10  0.403372   \n",
            "1256    2744.0   64.8   54.0  1.41370         0.0106     10  0.308653   \n",
            "1292    3501.0  104.2   42.8  1.41370         0.0106     10  0.393372   \n",
            "1308     869.0   38.1   29.1  1.41370         0.0106     10  0.097753   \n",
            "1313    1631.0   53.1   39.2  1.41370         0.0106     10  0.183372   \n",
            "...        ...    ...    ...      ...            ...    ...       ...   \n",
            "19514   4021.0  125.9   40.7  0.70686         0.0106      7  0.451800   \n",
            "19515  11419.0  189.6   76.8  0.70686         0.0106      7  1.284387   \n",
            "19520  20806.0  332.7   80.2  0.70686         0.0106      7  2.355515   \n",
            "19527   4665.0  130.1   46.1  0.70686         0.0106      7  0.529216   \n",
            "19529   1600.0   63.8   31.9  0.70686         0.0106      7  0.179776   \n",
            "\n",
            "       AreaExc_mm2  Major_mm  Minor_mm     V_mm3  \n",
            "1243      0.403260   0.77168   0.66568  0.179047  \n",
            "1256      0.308316   0.68688   0.57240  0.117836  \n",
            "1292      0.393372   1.10452   0.45368  0.119034  \n",
            "1308      0.097641   0.40386   0.30846  0.020120  \n",
            "1313      0.183259   0.56286   0.41552  0.050884  \n",
            "...            ...       ...       ...       ...  \n",
            "19514     0.451800   1.33454   0.43142  0.130056  \n",
            "19515     1.283039   2.00976   0.81408  0.697392  \n",
            "19520     2.337762   3.52662   0.85012  1.334497  \n",
            "19527     0.524159   1.37906   0.48866  0.172423  \n",
            "19529     0.179776   0.67628   0.33814  0.040487  \n",
            "\n",
            "[6895 rows x 19 columns]\n"
          ]
        }
      ]
    },
    {
      "cell_type": "code",
      "source": [
        "ecotaxa_processed_mai.to_excel('ecotaxa_processed_mai.xlsx', index=False)"
      ],
      "metadata": {
        "id": "eYU_tBDviRG2"
      },
      "execution_count": 41,
      "outputs": []
    }
  ]
}
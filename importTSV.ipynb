{
  "nbformat": 4,
  "nbformat_minor": 0,
  "metadata": {
    "colab": {
      "provenance": [],
      "authorship_tag": "ABX9TyOocl5Xl4af/9BhTaBIlQkJ",
      "include_colab_link": true
    },
    "kernelspec": {
      "name": "python3",
      "display_name": "Python 3"
    },
    "language_info": {
      "name": "python"
    }
  },
  "cells": [
    {
      "cell_type": "markdown",
      "metadata": {
        "id": "view-in-github",
        "colab_type": "text"
      },
      "source": [
        "<a href=\"https://colab.research.google.com/github/JerKeller/MP-Ecotaxa/blob/main/importTSV.ipynb\" target=\"_parent\"><img src=\"https://colab.research.google.com/assets/colab-badge.svg\" alt=\"Open In Colab\"/></a>"
      ]
    },
    {
      "cell_type": "code",
      "execution_count": null,
      "metadata": {
        "id": "k6n7a4DlbNrF"
      },
      "outputs": [],
      "source": [
        "import pandas as pd"
      ]
    },
    {
      "cell_type": "code",
      "source": [
        "r_filenameTSV = '/content/ecotaxa_export_6742_20220930_1235.tsv'"
      ],
      "metadata": {
        "id": "-AU_qg2ObVIO"
      },
      "execution_count": null,
      "outputs": []
    },
    {
      "cell_type": "code",
      "source": [
        "tsv_read = pd.read_csv(r_filenameTSV, sep='\\t')"
      ],
      "metadata": {
        "id": "waJsz8HIb4rK"
      },
      "execution_count": null,
      "outputs": []
    },
    {
      "cell_type": "code",
      "source": [
        "print(tsv_read)"
      ],
      "metadata": {
        "colab": {
          "base_uri": "https://localhost:8080/"
        },
        "id": "RAUahwWldc3K",
        "outputId": "5c7e28b5-4a4a-455f-d1ab-a81162b84113"
      },
      "execution_count": null,
      "outputs": [
        {
          "output_type": "stream",
          "name": "stdout",
          "text": [
            "                 object_id  object_lat  object_lon  object_date  object_time  \\\n",
            "0        n1_220906_tot_1_1        46.5        6.65     20220906       142700   \n",
            "1        n1_220906_tot_1_2        46.5        6.65     20220906       142700   \n",
            "2        n1_220906_tot_1_3        46.5        6.65     20220906       142700   \n",
            "3        n1_220906_tot_1_4        46.5        6.65     20220906       142700   \n",
            "4        n1_220906_tot_1_5        46.5        6.65     20220906       142700   \n",
            "...                    ...         ...         ...          ...          ...   \n",
            "3323  n4_220913_tot_1_1251         NaN         NaN     20220927       114900   \n",
            "3324  n4_220913_tot_1_1252         NaN         NaN     20220927       114900   \n",
            "3325  n4_220913_tot_1_1253         NaN         NaN     20220927       114900   \n",
            "3326  n4_220913_tot_1_1254         NaN         NaN     20220927       114900   \n",
            "3327  n4_220913_tot_1_1255         NaN         NaN     20220927       114900   \n",
            "\n",
            "                           object_link  object_depth_min  object_depth_max  \\\n",
            "0     http://www.zooscan.obs-vlfr.fr//              20.0             100.0   \n",
            "1     http://www.zooscan.obs-vlfr.fr//              20.0             100.0   \n",
            "2     http://www.zooscan.obs-vlfr.fr//              20.0             100.0   \n",
            "3     http://www.zooscan.obs-vlfr.fr//              20.0             100.0   \n",
            "4     http://www.zooscan.obs-vlfr.fr//              20.0             100.0   \n",
            "...                                ...               ...               ...   \n",
            "3323  http://www.zooscan.obs-vlfr.fr//               NaN               NaN   \n",
            "3324  http://www.zooscan.obs-vlfr.fr//               NaN               NaN   \n",
            "3325  http://www.zooscan.obs-vlfr.fr//               NaN               NaN   \n",
            "3326  http://www.zooscan.obs-vlfr.fr//               NaN               NaN   \n",
            "3327  http://www.zooscan.obs-vlfr.fr//               NaN               NaN   \n",
            "\n",
            "     object_annotation_status object_annotation_person_name  ... acq_ysize  \\\n",
            "0                   validated                 Jeremy Keller  ...   49176.0   \n",
            "1                   validated                 Jeremy Keller  ...   49176.0   \n",
            "2                   validated                 Jeremy Keller  ...   49176.0   \n",
            "3                   validated                 Jeremy Keller  ...   49176.0   \n",
            "4                   validated                 Jeremy Keller  ...   49176.0   \n",
            "...                       ...                           ...  ...       ...   \n",
            "3323                validated                 Jeremy Keller  ...       NaN   \n",
            "3324                predicted                           NaN  ...       NaN   \n",
            "3325                validated                 Jeremy Keller  ...       NaN   \n",
            "3326                validated                 Jeremy Keller  ...       NaN   \n",
            "3327                validated                 Jeremy Keller  ...       NaN   \n",
            "\n",
            "      acq_xoffset  acq_yoffset acq_lut_color_balance acq_lut_filter  \\\n",
            "0          4930.0       6180.0                manual             no   \n",
            "1          4930.0       6180.0                manual             no   \n",
            "2          4930.0       6180.0                manual             no   \n",
            "3          4930.0       6180.0                manual             no   \n",
            "4          4930.0       6180.0                manual             no   \n",
            "...           ...          ...                   ...            ...   \n",
            "3323          NaN          NaN                   NaN            NaN   \n",
            "3324          NaN          NaN                   NaN            NaN   \n",
            "3325          NaN          NaN                   NaN            NaN   \n",
            "3326          NaN          NaN                   NaN            NaN   \n",
            "3327          NaN          NaN                   NaN            NaN   \n",
            "\n",
            "      acq_lut_min  acq_lut_max  acq_lut_odrange  acq_lut_ratio  \\\n",
            "0           549.0      45824.0              1.8           1.15   \n",
            "1           549.0      45824.0              1.8           1.15   \n",
            "2           549.0      45824.0              1.8           1.15   \n",
            "3           549.0      45824.0              1.8           1.15   \n",
            "4           549.0      45824.0              1.8           1.15   \n",
            "...           ...          ...              ...            ...   \n",
            "3323          NaN          NaN              NaN            NaN   \n",
            "3324          NaN          NaN              NaN            NaN   \n",
            "3325          NaN          NaN              NaN            NaN   \n",
            "3326          NaN          NaN              NaN            NaN   \n",
            "3327          NaN          NaN              NaN            NaN   \n",
            "\n",
            "      acq_lut_16b_median  \n",
            "0                39847.0  \n",
            "1                39847.0  \n",
            "2                39847.0  \n",
            "3                39847.0  \n",
            "4                39847.0  \n",
            "...                  ...  \n",
            "3323                 NaN  \n",
            "3324                 NaN  \n",
            "3325                 NaN  \n",
            "3326                 NaN  \n",
            "3327                 NaN  \n",
            "\n",
            "[3328 rows x 158 columns]\n"
          ]
        }
      ]
    },
    {
      "cell_type": "code",
      "source": [],
      "metadata": {
        "id": "5FDcq7VDd-IU"
      },
      "execution_count": null,
      "outputs": []
    }
  ]
}
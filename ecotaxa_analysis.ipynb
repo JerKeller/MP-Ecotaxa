{
  "nbformat": 4,
  "nbformat_minor": 0,
  "metadata": {
    "colab": {
      "provenance": [],
      "authorship_tag": "ABX9TyNkZ5SGsNThFZSSjl9ZOf5/",
      "include_colab_link": true
    },
    "kernelspec": {
      "name": "python3",
      "display_name": "Python 3"
    },
    "language_info": {
      "name": "python"
    }
  },
  "cells": [
    {
      "cell_type": "markdown",
      "metadata": {
        "id": "view-in-github",
        "colab_type": "text"
      },
      "source": [
        "<a href=\"https://colab.research.google.com/github/JerKeller/MP-Ecotaxa/blob/main/ecotaxa_analysis.ipynb\" target=\"_parent\"><img src=\"https://colab.research.google.com/assets/colab-badge.svg\" alt=\"Open In Colab\"/></a>"
      ]
    },
    {
      "cell_type": "code",
      "source": [
        "# Importing libraries\n",
        "import pandas as pd\n",
        "import numpy as np\n",
        "import os\n",
        "import sys\n",
        "import subprocess"
      ],
      "metadata": {
        "id": "65DMC786_ymO"
      },
      "execution_count": 2,
      "outputs": []
    },
    {
      "cell_type": "code",
      "source": [
        "ecotaxa_export = '/content/ecotaxa_export.tsv'\n",
        "tsv_read = pd.read_csv(ecotaxa_export, sep='\\t')"
      ],
      "metadata": {
        "id": "u1bQ9FZICi-k"
      },
      "execution_count": 8,
      "outputs": []
    },
    {
      "cell_type": "code",
      "source": [
        "# Load data and extract columns needed\n",
        "sub1 = tsv_read[['object_id', 'object_date', 'object_depth_min', 'object_depth_max', 'object_annotation_category',\n",
        "                 'object_area', 'object_area_exc', 'object_major', 'object_minor', 'sample_tot_vol', 'process_particle_pixel_size_mm',\n",
        "                 'acq_id']]"
      ],
      "metadata": {
        "id": "gGA520XfAA4E"
      },
      "execution_count": 10,
      "outputs": []
    },
    {
      "cell_type": "code",
      "source": [
        "# Modify names of columns\n",
        "sub1.columns = ['Label', 'Date', 'Min_depth', 'Max_depth', 'Taxa', 'area', 'areaExc', 'major', 'minor',\n",
        "                'Tow_Vol', 'pixel_size_mm', 'acq_id']\n",
        "\n",
        "# Remove not living organisms\n",
        "sub2 = sub1[(sub1['Taxa'] != 'badfocus<artefact') & (sub1['Taxa'] != 'fiber<detritus') & \n",
        "            (sub1['Taxa'] != 'multiple<other') & (sub1['Taxa'] != 'detritus') & \n",
        "            (sub1['Taxa'] != 'egg sac<egg') & (sub1['Taxa'] != 't001') & \n",
        "            (sub1['Taxa'] != 't002') & (sub1['Taxa'] != 't003') & \n",
        "            (sub1['Taxa'] != 'othertocheck') & (sub1['Taxa'] != 'artefact') & \n",
        "            (sub1['Taxa'] != 'bubble') & (sub1['Taxa'] != 'dead<Copepoda')].copy()\n"
      ],
      "metadata": {
        "id": "gfkI0NevAGxe"
      },
      "execution_count": 11,
      "outputs": []
    },
    {
      "cell_type": "code",
      "source": [
        "sub2watercol = sub2[~sub2['acq_id'].isin(['tot_n10_221027', 'tot_n9_221013', 'tot_n14_221103',\n",
        "                                           'tot_n19_221110', 'tot_n24_221221', 'tot_n25_221221',\n",
        "                                           'tot_n26_221221', 'tot_n27_221221', 'tot_n28_221221',\n",
        "                                           'tot_n29_221221'])].copy()"
      ],
      "metadata": {
        "id": "jaLAiuXJAKDK"
      },
      "execution_count": 12,
      "outputs": []
    },
    {
      "cell_type": "code",
      "source": [
        "# Convert date to datetime format\n",
        "sub2watercol['Date'] = pd.to_datetime(sub2watercol['Date'], format='%Y%m%d')"
      ],
      "metadata": {
        "id": "P4Tb2lQqALtm"
      },
      "execution_count": 13,
      "outputs": []
    },
    {
      "cell_type": "code",
      "execution_count": 1,
      "metadata": {
        "colab": {
          "base_uri": "https://localhost:8080/",
          "height": 131
        },
        "id": "Duu9jvkl_iV_",
        "outputId": "36615c65-5cb2-4d94-bc74-9570c9c5f226"
      },
      "outputs": [
        {
          "output_type": "error",
          "ename": "SyntaxError",
          "evalue": "ignored",
          "traceback": [
            "\u001b[0;36m  File \u001b[0;32m\"<ipython-input-1-a72f9a657cbf>\"\u001b[0;36m, line \u001b[0;32m57\u001b[0m\n\u001b[0;31m    sub2watercol['\u001b[0m\n\u001b[0m                  ^\u001b[0m\n\u001b[0;31mSyntaxError\u001b[0m\u001b[0;31m:\u001b[0m EOL while scanning string literal\n"
          ]
        }
      ],
      "source": [
        "\n",
        "\n",
        "\n",
        "\n",
        "\n",
        "\n",
        "\n",
        "#######################Equations to compute Biovolume##########################\n",
        "\n",
        "# Area (mm2) = object_area x (process_particle_pixel_size_mm)2\n",
        "# Area excluded (mm2) = object_area_exc x (process_particle_pixel_size_mm)2\n",
        "# Major (mm) = object_major x process_particle_pixel_size_mm\n",
        "# Minor (mm) = object_minor x process_particle_pixel_size_mm\n",
        "\n",
        "import pandas as pd\n",
        "import numpy as np\n",
        "\n",
        "# Conversions from pixel to mm\n",
        "sub2watercol['Area_mm2'] = sub2watercol['area'] * ((sub2watercol['pixel_size_mm']) ** 2)\n",
        "sub2watercol['AreaExc_mm2'] = sub2watercol['areaExc'] * ((sub2watercol['pixel_size_mm']) ** 2)\n",
        "sub2watercol['Major_mm'] = sub2watercol['major'] * sub2watercol['pixel_size_mm']\n",
        "sub2watercol['Minor_mm'] = sub2watercol['minor'] * sub2watercol['pixel_size_mm']\n",
        "\n",
        "# Concentration = Number of individuals in the sample/m3\n",
        "# Concentration = nb. ind./m3 = (object_annotation_category x acq_sub_part) / sample_tot_vol\n",
        "\n",
        "# Conversions from pixel to mm\n",
        "sub2['Area_mm2'] = sub2['area'] * ((sub2watercol['pixel_size_mm']) ** 2)\n",
        "sub2['AreaExc_mm2'] = sub2['areaExc'] * ((sub2watercol['pixel_size_mm']) ** 2)\n",
        "sub2['Major_mm'] = sub2['major'] * sub2watercol['pixel_size_mm']\n",
        "sub2['Minor_mm'] = sub2['minor'] * sub2watercol['pixel_size_mm']\n",
        "\n",
        "#######################Biovolume##########################\n",
        "\n",
        "###Plain biovolume###\n",
        "\n",
        "# Radius of a circle = r_mm = √ (Area (mm2) / ∏)\n",
        "sub2['r_mm'] = np.sqrt(sub2['Area_mm2'] / np.pi)\n",
        "# Spherical Volume = V_mm3 = 4/3 x ∏ x r3\n",
        "sub2['V_mm3_plain'] = (4 / 3) * np.pi * ((sub2['r_mm']) ** 3)\n",
        "# Biovolume = Bv_mm3/m3 = (Spherical Volume x acq_sub_part) / sample_tot_vol\n",
        "sub2['Biovolume_plain'] = sub2['V_mm3_plain'] / sub2['Tow_Vol']\n",
        "\n",
        "###Ellipsoide biovolume###\n",
        "\n",
        "# Ellipsoidal Volume = V (mm3) = 4/3 x ∏ x [ (Major(mm)/2) x (Minor(mm)/2) x (Minor(mm)/2) ]\n",
        "sub2watercol['V_mm3'] = (4 / 3) * np.pi * ((sub2watercol['Major_mm'] / 2) * (sub2watercol['Minor_mm'] / 2) * (sub2watercol['Minor_mm'] / 2))\n",
        "\n",
        "# Creates a factor which allows binning by the log of the biovolume (calculated in the previous line).\n",
        "sub2watercol['logvol'] = np.log10(sub2watercol['V_mm3'])\n",
        "\n",
        "# Biovolume = Bv (mm3/m3) = (Spherical Volume x acq_sub_part) / sample_tot_vol\n",
        "# sub2watercol['Biovolume_ellips_mm3_m2'] = sub2watercol['V_mm3'] / sub2watercol['Tow_Vol']\n",
        "\n",
        "# Grouper les biovolumes par dates et espèces\n",
        "# grouped_data_biovol <- aggregate(Biovolume_ellips_mm3_m2 ~ Date + Taxa, data = sub2, FUN = sum)\n",
        "\n",
        "# Group the data by date and taxa\n",
        "grouped_data = sub2watercol.groupby(['acq_id', 'Taxa', 'Date'])\n",
        "\n",
        "# Count the number of occurrences for each species on each date\n",
        "species_count\n",
        "\n"
      ]
    }
  ]
}
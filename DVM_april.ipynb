{
  "nbformat": 4,
  "nbformat_minor": 0,
  "metadata": {
    "colab": {
      "provenance": [],
      "authorship_tag": "ABX9TyMBJ8taeVDaAWAx5Jf1JiQa",
      "include_colab_link": true
    },
    "kernelspec": {
      "name": "python3",
      "display_name": "Python 3"
    },
    "language_info": {
      "name": "python"
    }
  },
  "cells": [
    {
      "cell_type": "markdown",
      "metadata": {
        "id": "view-in-github",
        "colab_type": "text"
      },
      "source": [
        "<a href=\"https://colab.research.google.com/github/JerKeller/MP-Ecotaxa/blob/main/DVM_april.ipynb\" target=\"_parent\"><img src=\"https://colab.research.google.com/assets/colab-badge.svg\" alt=\"Open In Colab\"/></a>"
      ]
    },
    {
      "cell_type": "code",
      "execution_count": 1,
      "metadata": {
        "colab": {
          "base_uri": "https://localhost:8080/"
        },
        "id": "3tJ2eIjYte1J",
        "outputId": "046584c4-0ca1-4b1f-884d-3f4e8739900d"
      },
      "outputs": [
        {
          "output_type": "stream",
          "name": "stdout",
          "text": [
            "Mounted at /content/drive\n"
          ]
        }
      ],
      "source": [
        "# Importing libraries\n",
        "import pandas as pd\n",
        "import numpy as np\n",
        "import os\n",
        "import sys\n",
        "import subprocess\n",
        "from plotnine import ggplot, aes, geom_point, geom_line, labs, ggtitle, scale_y_log10\n",
        "import matplotlib.pyplot as plt\n",
        "import seaborn as sns\n",
        "     \n",
        "\n",
        "from google.colab import drive\n",
        "     \n",
        "\n",
        "drive.mount('/content/drive')"
      ]
    },
    {
      "cell_type": "code",
      "source": [
        "DVM_april = '/content/drive/MyDrive/Ecotaxa_analysis/DVM_april.tsv'\n",
        "tsv_read = pd.read_csv(DVM_april, sep='\\t')\n",
        "     "
      ],
      "metadata": {
        "id": "dk0e9k69upJk"
      },
      "execution_count": 3,
      "outputs": []
    },
    {
      "cell_type": "code",
      "source": [
        "sub1 = tsv_read[['object_id', 'object_date', 'object_depth_min', 'object_depth_max', 'object_annotation_category',\n",
        "                 'object_area', 'object_area_exc', 'object_major', 'object_minor', 'sample_tot_vol', 'process_particle_pixel_size_mm',\n",
        "                 'acq_id']]"
      ],
      "metadata": {
        "id": "AR7PdRuFu5Md"
      },
      "execution_count": 4,
      "outputs": []
    },
    {
      "cell_type": "code",
      "source": [
        "sub1.columns = ['Label', 'Date', 'Min_depth', 'Max_depth', 'Taxa', 'area', 'areaExc', 'major', 'minor',\n",
        "                'Tow_Vol', 'pixel_size_mm', 'acq_id']"
      ],
      "metadata": {
        "id": "ns6KN8PUu6OD"
      },
      "execution_count": 5,
      "outputs": []
    },
    {
      "cell_type": "code",
      "source": [
        "sub2 = sub1[(sub1['Taxa'] != 'badfocus<artefact') & (sub1['Taxa'] != 'fiber<detritus') & \n",
        "            (sub1['Taxa'] != 'multiple<other') & (sub1['Taxa'] != 'detritus') & \n",
        "            (sub1['Taxa'] != 'egg sac<egg') & (sub1['Taxa'] != 't001') & \n",
        "            (sub1['Taxa'] != 't002') & (sub1['Taxa'] != 't003') & \n",
        "            (sub1['Taxa'] != 'othertocheck') & (sub1['Taxa'] != 'artefact') & \n",
        "            (sub1['Taxa'] != 'bubble') & (sub1['Taxa'] != 'dead<Copepoda')].copy()\n"
      ],
      "metadata": {
        "id": "kJK8eBKMvkaC"
      },
      "execution_count": 7,
      "outputs": []
    }
  ]
}